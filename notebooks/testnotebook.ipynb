{
 "cells": [
  {
   "cell_type": "code",
   "execution_count": 8,
   "id": "e63757d9",
   "metadata": {},
   "outputs": [
    {
     "data": {
      "text/html": [
       "<div>\n",
       "<style scoped>\n",
       "    .dataframe tbody tr th:only-of-type {\n",
       "        vertical-align: middle;\n",
       "    }\n",
       "\n",
       "    .dataframe tbody tr th {\n",
       "        vertical-align: top;\n",
       "    }\n",
       "\n",
       "    .dataframe thead th {\n",
       "        text-align: right;\n",
       "    }\n",
       "</style>\n",
       "<table border=\"1\" class=\"dataframe\">\n",
       "  <thead>\n",
       "    <tr style=\"text-align: right;\">\n",
       "      <th></th>\n",
       "      <th>ip</th>\n",
       "      <th>time</th>\n",
       "      <th>method</th>\n",
       "      <th>endpoint</th>\n",
       "      <th>status</th>\n",
       "      <th>bytes</th>\n",
       "      <th>referrer</th>\n",
       "      <th>ua</th>\n",
       "      <th>response_time</th>\n",
       "    </tr>\n",
       "  </thead>\n",
       "  <tbody>\n",
       "    <tr>\n",
       "      <th>0</th>\n",
       "      <td>78.227.234.134</td>\n",
       "      <td>27/Dec/2037:12:00:00 +0100</td>\n",
       "      <td>GET</td>\n",
       "      <td>/usr</td>\n",
       "      <td>304</td>\n",
       "      <td>4994</td>\n",
       "      <td>-</td>\n",
       "      <td>Mozilla/5.0 (Macintosh; Intel Mac OS X 10_9_3)...</td>\n",
       "      <td>713</td>\n",
       "    </tr>\n",
       "    <tr>\n",
       "      <th>1</th>\n",
       "      <td>8.108.176.251</td>\n",
       "      <td>27/Dec/2037:12:00:00 +0100</td>\n",
       "      <td>DELETE</td>\n",
       "      <td>/usr</td>\n",
       "      <td>303</td>\n",
       "      <td>5035</td>\n",
       "      <td>-</td>\n",
       "      <td>Mozilla/5.0 (Linux; Android 10; ONEPLUS A6000)...</td>\n",
       "      <td>1906</td>\n",
       "    </tr>\n",
       "    <tr>\n",
       "      <th>2</th>\n",
       "      <td>3.173.150.154</td>\n",
       "      <td>27/Dec/2037:12:00:00 +0100</td>\n",
       "      <td>GET</td>\n",
       "      <td>/usr/register</td>\n",
       "      <td>404</td>\n",
       "      <td>4983</td>\n",
       "      <td>http://www.garza.com/search/wp-content/blogabo...</td>\n",
       "      <td>Mozilla/5.0 (Linux; Android 10; ONEPLUS A6000)...</td>\n",
       "      <td>3680</td>\n",
       "    </tr>\n",
       "    <tr>\n",
       "      <th>3</th>\n",
       "      <td>116.115.120.25</td>\n",
       "      <td>27/Dec/2037:12:00:00 +0100</td>\n",
       "      <td>PUT</td>\n",
       "      <td>/usr</td>\n",
       "      <td>200</td>\n",
       "      <td>4924</td>\n",
       "      <td>-</td>\n",
       "      <td>Mozilla/5.0 (Windows NT 10.0; Win64; x64) Appl...</td>\n",
       "      <td>2788</td>\n",
       "    </tr>\n",
       "    <tr>\n",
       "      <th>4</th>\n",
       "      <td>160.26.158.113</td>\n",
       "      <td>27/Dec/2037:12:00:00 +0100</td>\n",
       "      <td>PUT</td>\n",
       "      <td>/usr/admin</td>\n",
       "      <td>404</td>\n",
       "      <td>5043</td>\n",
       "      <td>-</td>\n",
       "      <td>Mozilla/5.0 (Windows NT 10.0; Win64; x64) Appl...</td>\n",
       "      <td>793</td>\n",
       "    </tr>\n",
       "  </tbody>\n",
       "</table>\n",
       "</div>"
      ],
      "text/plain": [
       "               ip                        time  method       endpoint status  \\\n",
       "0  78.227.234.134  27/Dec/2037:12:00:00 +0100     GET           /usr    304   \n",
       "1   8.108.176.251  27/Dec/2037:12:00:00 +0100  DELETE           /usr    303   \n",
       "2   3.173.150.154  27/Dec/2037:12:00:00 +0100     GET  /usr/register    404   \n",
       "3  116.115.120.25  27/Dec/2037:12:00:00 +0100     PUT           /usr    200   \n",
       "4  160.26.158.113  27/Dec/2037:12:00:00 +0100     PUT     /usr/admin    404   \n",
       "\n",
       "  bytes                                           referrer  \\\n",
       "0  4994                                                  -   \n",
       "1  5035                                                  -   \n",
       "2  4983  http://www.garza.com/search/wp-content/blogabo...   \n",
       "3  4924                                                  -   \n",
       "4  5043                                                  -   \n",
       "\n",
       "                                                  ua response_time  \n",
       "0  Mozilla/5.0 (Macintosh; Intel Mac OS X 10_9_3)...           713  \n",
       "1  Mozilla/5.0 (Linux; Android 10; ONEPLUS A6000)...          1906  \n",
       "2  Mozilla/5.0 (Linux; Android 10; ONEPLUS A6000)...          3680  \n",
       "3  Mozilla/5.0 (Windows NT 10.0; Win64; x64) Appl...          2788  \n",
       "4  Mozilla/5.0 (Windows NT 10.0; Win64; x64) Appl...           793  "
      ]
     },
     "execution_count": 8,
     "metadata": {},
     "output_type": "execute_result"
    }
   ],
   "source": [
    "import re\n",
    "import pandas as pd\n",
    "\n",
    "LOG_PATH = '../data/logfiles.log'\n",
    "LOG_PATTERN = r'(?P<ip>\\S+) - - \\[(?P<time>[^\\]]+)\\] \"(?P<method>\\S+) (?P<endpoint>\\S+) HTTP/\\d\\.\\d\" (?P<status>\\d+) (?P<bytes>\\d+) \"(?P<referrer>[^\"]+)\" \"(?P<ua>[^\"]+)\" (?P<response_time>\\d+)'\n",
    "\n",
    "def parse_logs(path):\n",
    "    data = []\n",
    "    with open(path) as f:\n",
    "        for line in f:\n",
    "            match = re.match(LOG_PATTERN, line)\n",
    "            if match:\n",
    "                data.append(match.groupdict())\n",
    "    return pd.DataFrame(data)\n",
    "\n",
    "df = parse_logs(LOG_PATH)\n",
    "df.head()\n"
   ]
  },
  {
   "cell_type": "code",
   "execution_count": 10,
   "id": "809efa74",
   "metadata": {},
   "outputs": [
    {
     "data": {
      "text/plain": [
       "array(['-', 'http://www.garza.com/search/wp-content/blogabout.asp'],\n",
       "      dtype=object)"
      ]
     },
     "execution_count": 10,
     "metadata": {},
     "output_type": "execute_result"
    }
   ],
   "source": [
    "df[\"referrer\"].unique()"
   ]
  }
 ],
 "metadata": {
  "kernelspec": {
   "display_name": "Python 3",
   "language": "python",
   "name": "python3"
  },
  "language_info": {
   "codemirror_mode": {
    "name": "ipython",
    "version": 3
   },
   "file_extension": ".py",
   "mimetype": "text/x-python",
   "name": "python",
   "nbconvert_exporter": "python",
   "pygments_lexer": "ipython3",
   "version": "3.12.1"
  }
 },
 "nbformat": 4,
 "nbformat_minor": 5
}
