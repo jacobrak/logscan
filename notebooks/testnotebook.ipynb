{
 "cells": [
  {
   "cell_type": "code",
   "execution_count": 1,
   "id": "e63757d9",
   "metadata": {},
   "outputs": [
    {
     "data": {
      "text/html": [
       "<div>\n",
       "<style scoped>\n",
       "    .dataframe tbody tr th:only-of-type {\n",
       "        vertical-align: middle;\n",
       "    }\n",
       "\n",
       "    .dataframe tbody tr th {\n",
       "        vertical-align: top;\n",
       "    }\n",
       "\n",
       "    .dataframe thead th {\n",
       "        text-align: right;\n",
       "    }\n",
       "</style>\n",
       "<table border=\"1\" class=\"dataframe\">\n",
       "  <thead>\n",
       "    <tr style=\"text-align: right;\">\n",
       "      <th></th>\n",
       "      <th>ip</th>\n",
       "      <th>method</th>\n",
       "      <th>endpoint</th>\n",
       "      <th>status</th>\n",
       "      <th>bytes</th>\n",
       "      <th>ua</th>\n",
       "      <th>response_time</th>\n",
       "    </tr>\n",
       "  </thead>\n",
       "  <tbody>\n",
       "    <tr>\n",
       "      <th>0</th>\n",
       "      <td>78.227.234.134</td>\n",
       "      <td>GET</td>\n",
       "      <td>/usr</td>\n",
       "      <td>304</td>\n",
       "      <td>4944</td>\n",
       "      <td>Mozilla/5.0 (Macintosh; Intel Mac OS X 10_9_3)...</td>\n",
       "      <td>713</td>\n",
       "    </tr>\n",
       "    <tr>\n",
       "      <th>1</th>\n",
       "      <td>8.108.176.251</td>\n",
       "      <td>DELETE</td>\n",
       "      <td>/usr</td>\n",
       "      <td>303</td>\n",
       "      <td>5350</td>\n",
       "      <td>Mozilla/5.0 (Linux; Android 10; ONEPLUS A6000)...</td>\n",
       "      <td>1906</td>\n",
       "    </tr>\n",
       "    <tr>\n",
       "      <th>2</th>\n",
       "      <td>3.173.150.154</td>\n",
       "      <td>GET</td>\n",
       "      <td>/usr/register</td>\n",
       "      <td>404</td>\n",
       "      <td>4835</td>\n",
       "      <td>Mozilla/5.0 (Linux; Android 10; ONEPLUS A6000)...</td>\n",
       "      <td>3680</td>\n",
       "    </tr>\n",
       "    <tr>\n",
       "      <th>3</th>\n",
       "      <td>116.115.120.25</td>\n",
       "      <td>PUT</td>\n",
       "      <td>/usr</td>\n",
       "      <td>200</td>\n",
       "      <td>4240</td>\n",
       "      <td>Mozilla/5.0 (Windows NT 10.0; Win64; x64) Appl...</td>\n",
       "      <td>2788</td>\n",
       "    </tr>\n",
       "    <tr>\n",
       "      <th>4</th>\n",
       "      <td>160.26.158.113</td>\n",
       "      <td>PUT</td>\n",
       "      <td>/usr/admin</td>\n",
       "      <td>404</td>\n",
       "      <td>5436</td>\n",
       "      <td>Mozilla/5.0 (Windows NT 10.0; Win64; x64) Appl...</td>\n",
       "      <td>793</td>\n",
       "    </tr>\n",
       "  </tbody>\n",
       "</table>\n",
       "</div>"
      ],
      "text/plain": [
       "               ip  method       endpoint status bytes  \\\n",
       "0  78.227.234.134     GET           /usr    304  4944   \n",
       "1   8.108.176.251  DELETE           /usr    303  5350   \n",
       "2   3.173.150.154     GET  /usr/register    404  4835   \n",
       "3  116.115.120.25     PUT           /usr    200  4240   \n",
       "4  160.26.158.113     PUT     /usr/admin    404  5436   \n",
       "\n",
       "                                                  ua response_time  \n",
       "0  Mozilla/5.0 (Macintosh; Intel Mac OS X 10_9_3)...           713  \n",
       "1  Mozilla/5.0 (Linux; Android 10; ONEPLUS A6000)...          1906  \n",
       "2  Mozilla/5.0 (Linux; Android 10; ONEPLUS A6000)...          3680  \n",
       "3  Mozilla/5.0 (Windows NT 10.0; Win64; x64) Appl...          2788  \n",
       "4  Mozilla/5.0 (Windows NT 10.0; Win64; x64) Appl...           793  "
      ]
     },
     "execution_count": 1,
     "metadata": {},
     "output_type": "execute_result"
    }
   ],
   "source": [
    "import re\n",
    "import pandas as pd\n",
    "\n",
    "LOG_PATH = '../data/logfiles.log'\n",
    "LOG_PATTERN = r'(?P<ip>\\S+) - - \\[(?P<time>[^\\]]+)\\] \"(?P<method>\\S+) (?P<endpoint>\\S+) HTTP/\\d\\.\\d\" (?P<status>\\d+) (?P<bytes>\\d+) \"(?P<referrer>[^\"]+)\" \"(?P<ua>[^\"]+)\" (?P<response_time>\\d+)'\n",
    "\n",
    "def drop_data(df):\n",
    "    \"\"\"\n",
    "    Drop unnesscary data\n",
    "    \n",
    "    It's all the same\n",
    "    \"\"\"\n",
    "    return df.drop([\"time\", \"referrer\"], axis=1)\n",
    "\n",
    "def parse_logs(path):\n",
    "    data = []\n",
    "    with open(path) as f:\n",
    "        for line in f:\n",
    "            match = re.match(LOG_PATTERN, line)\n",
    "            if match:\n",
    "                data.append(match.groupdict())\n",
    "    \n",
    "    return drop_data(pd.DataFrame(data))\n",
    "\n",
    "df = parse_logs(LOG_PATH)\n",
    "df.head()\n"
   ]
  },
  {
   "cell_type": "code",
   "execution_count": 2,
   "id": "809efa74",
   "metadata": {},
   "outputs": [],
   "source": [
    "from user_agents import parse\n",
    "method_map = {\n",
    "    \"GET\": 0,\n",
    "    \"DELETE\": 1,\n",
    "    \"PUT\": 2,\n",
    "    \"POST\": 3\n",
    "}\n",
    "method_map2 = {\n",
    "    \"/usr\": 0,\n",
    "    \"/usr/register\": 1,\n",
    "    \"/usr/admin\": 2,\n",
    "    \"/usr/admin/developer\": 3,\n",
    "    \"/usr/login\": 4\n",
    "}\n",
    "ua_parsed = df[\"ua\"].apply(parse)\n",
    "df[\"os\"] = ua_parsed.apply(lambda x: x.os.family)\n",
    "df[\"device\"] = ua_parsed.apply(lambda x: x.device.family)\n",
    "df[\"browser\"] = ua_parsed.apply(lambda x: x.browser.family)\n",
    "df[\"request_type_dummy\"] = df[\"method\"].map(method_map)\n",
    "df[\"endpoint_dummy\"] = df[\"endpoint\"].map(method_map2)\n",
    "df[\"status\"] = df[\"status\"].astype(int)\n",
    "df[\"is_error\"] = (df[\"status\"] >= 400).astype(int)"
   ]
  },
  {
   "cell_type": "code",
   "execution_count": null,
   "id": "02358754",
   "metadata": {},
   "outputs": [],
   "source": [
    "os_dummies = pd.get_dummies(df['os'], prefix='os', drop_first=True).astype(int)\n",
    "device_dummies = pd.get_dummies(df['device'], prefix='d', drop_first=True).astype(int)\n",
    "browser_dummies = pd.get_dummies(df['browser'], prefix='b', drop_first=True).astype(int)"
   ]
  },
  {
   "cell_type": "code",
   "execution_count": 4,
   "id": "4db51db3",
   "metadata": {},
   "outputs": [],
   "source": [
    "import random\n",
    "import numpy as np\n",
    "def data_set_creation(df):\n",
    "    random.seed(42)\n",
    "    np.random.seed(42)\n",
    "    df = pd.concat([df, os_dummies, device_dummies, browser_dummies], axis=1)\n",
    "\n",
    "    df[\"response_time\"] = (\n",
    "    df[\"bytes\"].astype(int) // 11 +\n",
    "    df[\"request_type_dummy\"].astype(int) * np.random.normal(25, 25, len(df)) +\n",
    "    df[\"endpoint_dummy\"].astype(int) * 15 +\n",
    "    df[\"os_Mac OS X\"] * np.random.normal(80, 10, len(df)) +\n",
    "    df[\"os_Windows\"] * np.random.normal(90, 10, len(df)) +\n",
    "    \n",
    "    df[\"d_Mac\"] * np.random.normal(100, 15, len(df)) +\n",
    "    df[\"d_iPhone\"] * np.random.normal(120, 20, len(df)) +\n",
    "    df[\"d_Other\"] * -np.random.normal(160, 20, len(df)) +\n",
    "\n",
    "    df[\"b_Chrome Mobile\"] * np.random.normal(75, 15, len(df)) +\n",
    "    df[\"b_Edge\"] * np.random.normal(195, 25, len(df)) +\n",
    "    df[\"b_Edge Mobile\"] * -np.random.normal(165, 25, len(df)) +\n",
    "    df[\"b_Opera\"] * np.random.normal(90, 15, len(df)) +\n",
    "    df[\"b_Safari\"] * np.random.normal(110, 20, len(df)) +\n",
    "    \n",
    "    df[\"b_Opera Mobile\"] * -90 +\n",
    "    df[\"request_type_dummy\"].astype(int)*df[\"endpoint_dummy\"].astype(int)*25 + \n",
    "    np.random.normal(0, 100, len(df))  # extra general noise\n",
    "    )\n",
    "        \n",
    "    return df"
   ]
  },
  {
   "cell_type": "code",
   "execution_count": 5,
   "id": "632a11b4",
   "metadata": {},
   "outputs": [],
   "source": [
    "new_data = data_set_creation(df)"
   ]
  },
  {
   "cell_type": "code",
   "execution_count": 6,
   "id": "8e0d52d5",
   "metadata": {},
   "outputs": [],
   "source": [
    "new_data.columns\n",
    "new_data = new_data.drop([\"ip\", \"method\", \"endpoint\", \"ua\", \"os\", \"device\", \"browser\", \"status\"], axis=1)"
   ]
  },
  {
   "cell_type": "code",
   "execution_count": null,
   "id": "b36d6502",
   "metadata": {},
   "outputs": [],
   "source": [
    "from sklearn.model_selection import train_test_split\n",
    "from sklearn.ensemble import RandomForestRegressor\n",
    "\n",
    "X = new_data[[\"bytes\", \"request_type_dummy\", \"endpoint_dummy\"]]\n",
    "y = new_data[\"response_time\"]\n",
    "X = pd.concat([X, os_dummies, browser_dummies, device_dummies], axis=1)\n",
    "\n",
    "X_train, X_test, y_train, y_test = train_test_split(X, y, test_size=0.2, random_state=42)\n",
    "\n",
    "# Train the model\n",
    "model = RandomForestRegressor(max_depth=10, random_state=0)\n",
    "model.fit(X_train, y_train)\n",
    "\n",
    "# Evaluate\n",
    "y_pred = model.predict(X_test)"
   ]
  },
  {
   "cell_type": "code",
   "execution_count": null,
   "id": "4e803a83",
   "metadata": {},
   "outputs": [
    {
     "name": "stdout",
     "output_type": "stream",
     "text": [
      "MAE:  96.07\n",
      "MSE:  14714.68\n",
      "RMSE: 121.30\n",
      "R²:   0.68\n"
     ]
    }
   ],
   "source": [
    "from sklearn.metrics import mean_squared_error, mean_absolute_error, r2_score, root_mean_squared_error\n",
    "import matplotlib.pyplot as plt\n",
    "import seaborn as sns\n",
    "print(f\"MAE:  {mean_absolute_error(y_test, y_pred):.2f}\")\n",
    "print(f\"MSE:  {mean_squared_error(y_test, y_pred):.2f}\")\n",
    "print(f\"RMSE: {root_mean_squared_error(y_test, y_pred):.2f}\")\n",
    "print(f\"R²:   {r2_score(y_test, y_pred):.2f}\")"
   ]
  },
  {
   "cell_type": "code",
   "execution_count": null,
   "id": "daf8e2d2",
   "metadata": {},
   "outputs": [],
   "source": [
    "import optuna\n",
    "from sklearn.ensemble import RandomForestRegressor\n",
    "from sklearn.model_selection import cross_val_score\n",
    "from sklearn.metrics import mean_squared_error\n",
    "import numpy as np\n",
    "\n",
    "def objective(trial):\n",
    "    params = {\n",
    "        \"n_estimators\": trial.suggest_int(\"n_estimators\", 50, 300),  # step=1 by default\n",
    "        \"max_depth\": trial.suggest_int(\"max_depth\", 2, 20),\n",
    "        \"min_samples_split\": trial.suggest_int(\"min_samples_split\", 2, 10),\n",
    "        \"min_samples_leaf\": trial.suggest_int(\"min_samples_leaf\", 1, 10),\n",
    "        \"max_features\": trial.suggest_categorical(\"max_features\", [\"sqrt\", \"log2\"]),\n",
    "    }\n",
    "\n",
    "    model = RandomForestRegressor(**params, random_state=42, n_jobs=-1)\n",
    "\n",
    "    score = cross_val_score(model, X_train, y_train, scoring=\"neg_mean_squared_error\", cv=3)\n",
    "    return -score.mean()"
   ]
  },
  {
   "cell_type": "code",
   "execution_count": null,
   "id": "67a6fba0",
   "metadata": {},
   "outputs": [
    {
     "name": "stderr",
     "output_type": "stream",
     "text": [
      "[I 2025-05-21 00:17:29,938] A new study created in memory with name: no-name-2c373162-4543-4c27-89f3-a00a4a5184da\n",
      "[I 2025-05-21 00:17:30,887] Trial 0 finished with value: 19911.522738466323 and parameters: {'n_estimators': 210, 'max_depth': 5, 'min_samples_split': 3, 'min_samples_leaf': 10, 'max_features': 'log2'}. Best is trial 0 with value: 19911.522738466323.\n",
      "[I 2025-05-21 00:17:31,737] Trial 1 finished with value: 30507.151034337967 and parameters: {'n_estimators': 191, 'max_depth': 2, 'min_samples_split': 3, 'min_samples_leaf': 6, 'max_features': 'log2'}. Best is trial 0 with value: 19911.522738466323.\n",
      "[I 2025-05-21 00:17:32,891] Trial 2 finished with value: 14742.820687772226 and parameters: {'n_estimators': 261, 'max_depth': 9, 'min_samples_split': 3, 'min_samples_leaf': 3, 'max_features': 'sqrt'}. Best is trial 2 with value: 14742.820687772226.\n",
      "[I 2025-05-21 00:17:33,597] Trial 3 finished with value: 13970.917813520347 and parameters: {'n_estimators': 150, 'max_depth': 20, 'min_samples_split': 6, 'min_samples_leaf': 9, 'max_features': 'sqrt'}. Best is trial 3 with value: 13970.917813520347.\n",
      "[I 2025-05-21 00:17:34,574] Trial 4 finished with value: 26089.395630074927 and parameters: {'n_estimators': 237, 'max_depth': 3, 'min_samples_split': 4, 'min_samples_leaf': 3, 'max_features': 'sqrt'}. Best is trial 3 with value: 13970.917813520347.\n",
      "[I 2025-05-21 00:17:35,245] Trial 5 finished with value: 15433.770182875975 and parameters: {'n_estimators': 135, 'max_depth': 20, 'min_samples_split': 2, 'min_samples_leaf': 2, 'max_features': 'sqrt'}. Best is trial 3 with value: 13970.917813520347.\n",
      "[I 2025-05-21 00:17:35,762] Trial 6 finished with value: 15444.635178980758 and parameters: {'n_estimators': 107, 'max_depth': 8, 'min_samples_split': 7, 'min_samples_leaf': 7, 'max_features': 'sqrt'}. Best is trial 3 with value: 13970.917813520347.\n",
      "[I 2025-05-21 00:17:36,226] Trial 7 finished with value: 14024.41500026531 and parameters: {'n_estimators': 88, 'max_depth': 17, 'min_samples_split': 10, 'min_samples_leaf': 10, 'max_features': 'sqrt'}. Best is trial 3 with value: 13970.917813520347.\n",
      "[I 2025-05-21 00:17:36,528] Trial 8 finished with value: 14055.598779976424 and parameters: {'n_estimators': 54, 'max_depth': 12, 'min_samples_split': 6, 'min_samples_leaf': 7, 'max_features': 'sqrt'}. Best is trial 3 with value: 13970.917813520347.\n",
      "[I 2025-05-21 00:17:36,997] Trial 9 finished with value: 14338.955417277588 and parameters: {'n_estimators': 90, 'max_depth': 11, 'min_samples_split': 6, 'min_samples_leaf': 2, 'max_features': 'log2'}. Best is trial 3 with value: 13970.917813520347.\n",
      "[I 2025-05-21 00:17:37,756] Trial 10 finished with value: 13972.862838548375 and parameters: {'n_estimators': 153, 'max_depth': 16, 'min_samples_split': 9, 'min_samples_leaf': 8, 'max_features': 'log2'}. Best is trial 3 with value: 13970.917813520347.\n",
      "[I 2025-05-21 00:17:38,483] Trial 11 finished with value: 13971.325508080088 and parameters: {'n_estimators': 156, 'max_depth': 16, 'min_samples_split': 9, 'min_samples_leaf': 8, 'max_features': 'log2'}. Best is trial 3 with value: 13970.917813520347.\n",
      "[I 2025-05-21 00:17:39,265] Trial 12 finished with value: 13982.387075859833 and parameters: {'n_estimators': 167, 'max_depth': 20, 'min_samples_split': 8, 'min_samples_leaf': 9, 'max_features': 'log2'}. Best is trial 3 with value: 13970.917813520347.\n",
      "[I 2025-05-21 00:17:39,911] Trial 13 finished with value: 14125.402281094932 and parameters: {'n_estimators': 132, 'max_depth': 16, 'min_samples_split': 5, 'min_samples_leaf': 5, 'max_features': 'log2'}. Best is trial 3 with value: 13970.917813520347.\n",
      "[I 2025-05-21 00:17:41,179] Trial 14 finished with value: 13955.834308694313 and parameters: {'n_estimators': 300, 'max_depth': 14, 'min_samples_split': 8, 'min_samples_leaf': 8, 'max_features': 'sqrt'}. Best is trial 14 with value: 13955.834308694313.\n",
      "[I 2025-05-21 00:17:42,469] Trial 15 finished with value: 14011.171626666737 and parameters: {'n_estimators': 297, 'max_depth': 13, 'min_samples_split': 7, 'min_samples_leaf': 9, 'max_features': 'sqrt'}. Best is trial 14 with value: 13955.834308694313.\n",
      "[I 2025-05-21 00:17:43,733] Trial 16 finished with value: 14105.464775061393 and parameters: {'n_estimators': 297, 'max_depth': 18, 'min_samples_split': 8, 'min_samples_leaf': 5, 'max_features': 'sqrt'}. Best is trial 14 with value: 13955.834308694313.\n",
      "[I 2025-05-21 00:17:44,659] Trial 17 finished with value: 13960.188137370982 and parameters: {'n_estimators': 217, 'max_depth': 14, 'min_samples_split': 5, 'min_samples_leaf': 8, 'max_features': 'sqrt'}. Best is trial 14 with value: 13955.834308694313.\n",
      "[I 2025-05-21 00:17:45,780] Trial 18 finished with value: 13998.610623287774 and parameters: {'n_estimators': 259, 'max_depth': 13, 'min_samples_split': 5, 'min_samples_leaf': 6, 'max_features': 'sqrt'}. Best is trial 14 with value: 13955.834308694313.\n",
      "[I 2025-05-21 00:17:46,723] Trial 19 finished with value: 13985.17471501248 and parameters: {'n_estimators': 214, 'max_depth': 14, 'min_samples_split': 5, 'min_samples_leaf': 7, 'max_features': 'sqrt'}. Best is trial 14 with value: 13955.834308694313.\n",
      "[I 2025-05-21 00:17:47,836] Trial 20 finished with value: 14340.283303378877 and parameters: {'n_estimators': 266, 'max_depth': 10, 'min_samples_split': 7, 'min_samples_leaf': 8, 'max_features': 'sqrt'}. Best is trial 14 with value: 13955.834308694313.\n",
      "[I 2025-05-21 00:17:48,687] Trial 21 finished with value: 13992.650953705108 and parameters: {'n_estimators': 193, 'max_depth': 14, 'min_samples_split': 6, 'min_samples_leaf': 9, 'max_features': 'sqrt'}. Best is trial 14 with value: 13955.834308694313.\n",
      "[I 2025-05-21 00:17:49,601] Trial 22 finished with value: 16603.655980008636 and parameters: {'n_estimators': 227, 'max_depth': 7, 'min_samples_split': 8, 'min_samples_leaf': 10, 'max_features': 'sqrt'}. Best is trial 14 with value: 13955.834308694313.\n",
      "[I 2025-05-21 00:17:50,423] Trial 23 finished with value: 13993.464604909974 and parameters: {'n_estimators': 182, 'max_depth': 18, 'min_samples_split': 4, 'min_samples_leaf': 8, 'max_features': 'sqrt'}. Best is trial 14 with value: 13955.834308694313.\n",
      "[I 2025-05-21 00:17:51,467] Trial 24 finished with value: 13985.28289847902 and parameters: {'n_estimators': 240, 'max_depth': 15, 'min_samples_split': 6, 'min_samples_leaf': 9, 'max_features': 'sqrt'}. Best is trial 14 with value: 13955.834308694313.\n",
      "[I 2025-05-21 00:17:52,096] Trial 25 finished with value: 13992.48073403839 and parameters: {'n_estimators': 132, 'max_depth': 19, 'min_samples_split': 4, 'min_samples_leaf': 7, 'max_features': 'sqrt'}. Best is trial 14 with value: 13955.834308694313.\n",
      "[I 2025-05-21 00:17:53,005] Trial 26 finished with value: 14151.68247267796 and parameters: {'n_estimators': 208, 'max_depth': 11, 'min_samples_split': 10, 'min_samples_leaf': 4, 'max_features': 'sqrt'}. Best is trial 14 with value: 13955.834308694313.\n",
      "[I 2025-05-21 00:17:54,154] Trial 27 finished with value: 18043.314649287815 and parameters: {'n_estimators': 270, 'max_depth': 6, 'min_samples_split': 7, 'min_samples_leaf': 6, 'max_features': 'sqrt'}. Best is trial 14 with value: 13955.834308694313.\n",
      "[I 2025-05-21 00:17:55,372] Trial 28 finished with value: 13973.566168241052 and parameters: {'n_estimators': 280, 'max_depth': 18, 'min_samples_split': 5, 'min_samples_leaf': 9, 'max_features': 'sqrt'}. Best is trial 14 with value: 13955.834308694313.\n",
      "[I 2025-05-21 00:17:56,294] Trial 29 finished with value: 14013.375413359186 and parameters: {'n_estimators': 210, 'max_depth': 14, 'min_samples_split': 9, 'min_samples_leaf': 10, 'max_features': 'sqrt'}. Best is trial 14 with value: 13955.834308694313.\n",
      "[I 2025-05-21 00:17:57,077] Trial 30 finished with value: 14107.381057495668 and parameters: {'n_estimators': 168, 'max_depth': 11, 'min_samples_split': 2, 'min_samples_leaf': 8, 'max_features': 'sqrt'}. Best is trial 14 with value: 13955.834308694313.\n",
      "[I 2025-05-21 00:17:57,826] Trial 31 finished with value: 13973.774125278926 and parameters: {'n_estimators': 158, 'max_depth': 16, 'min_samples_split': 9, 'min_samples_leaf': 8, 'max_features': 'log2'}. Best is trial 14 with value: 13955.834308694313.\n",
      "[I 2025-05-21 00:17:58,389] Trial 32 finished with value: 13973.897603553383 and parameters: {'n_estimators': 118, 'max_depth': 15, 'min_samples_split': 8, 'min_samples_leaf': 7, 'max_features': 'log2'}. Best is trial 14 with value: 13955.834308694313.\n",
      "[I 2025-05-21 00:17:59,067] Trial 33 finished with value: 14029.670914489348 and parameters: {'n_estimators': 143, 'max_depth': 17, 'min_samples_split': 9, 'min_samples_leaf': 10, 'max_features': 'log2'}. Best is trial 14 with value: 13955.834308694313.\n",
      "[I 2025-05-21 00:17:59,915] Trial 34 finished with value: 13978.420561322178 and parameters: {'n_estimators': 191, 'max_depth': 13, 'min_samples_split': 10, 'min_samples_leaf': 8, 'max_features': 'log2'}. Best is trial 14 with value: 13955.834308694313.\n",
      "[I 2025-05-21 00:18:00,997] Trial 35 finished with value: 13974.766888913246 and parameters: {'n_estimators': 249, 'max_depth': 19, 'min_samples_split': 7, 'min_samples_leaf': 9, 'max_features': 'log2'}. Best is trial 14 with value: 13955.834308694313.\n"
     ]
    }
   ],
   "source": [
    "study = optuna.create_study(direction=\"minimize\")\n",
    "study.optimize(objective, n_trials=50) "
   ]
  },
  {
   "cell_type": "code",
   "execution_count": null,
   "id": "891052d7",
   "metadata": {},
   "outputs": [
    {
     "name": "stdout",
     "output_type": "stream",
     "text": [
      "Best parameters: {'n_estimators': 221, 'max_depth': 16, 'min_samples_split': 5, 'min_samples_leaf': 8, 'max_features': 'sqrt'}\n"
     ]
    }
   ],
   "source": [
    "best_params = study.best_params\n",
    "print(\"Best parameters:\", best_params)\n",
    "\n",
    "final_model = RandomForestRegressor(**best_params, random_state=42)\n",
    "final_model.fit(X_train, y_train)\n",
    "\n",
    "y_pred = final_model.predict(X_test)"
   ]
  },
  {
   "cell_type": "code",
   "execution_count": null,
   "id": "ffcd1307",
   "metadata": {},
   "outputs": [],
   "source": [
    "import json\n",
    "with open(\"best_params.json\", \"w\") as w:\n",
    "    json.dump(best_params, w)"
   ]
  },
  {
   "cell_type": "code",
   "execution_count": null,
   "id": "a884ef84",
   "metadata": {},
   "outputs": [
    {
     "name": "stdout",
     "output_type": "stream",
     "text": [
      "MAE:  92.51\n",
      "MSE:  13732.09\n",
      "RMSE: 117.18\n",
      "R²:   0.70\n"
     ]
    }
   ],
   "source": [
    "model_best = RandomForestRegressor(n_estimators=221, max_depth=16, min_samples_split=5, min_samples_leaf=8, max_features=\"sqrt\")\n",
    "model_best.fit(X_train, y_train)\n",
    "\n",
    "y_pred = model_best.predict(X_test)\n",
    "\n",
    "print(f\"MAE:  {mean_absolute_error(y_test, y_pred):.2f}\")\n",
    "print(f\"MSE:  {mean_squared_error(y_test, y_pred):.2f}\")\n",
    "print(f\"RMSE: {root_mean_squared_error(y_test, y_pred):.2f}\")\n",
    "print(f\"R²:   {r2_score(y_test, y_pred):.2f}\")"
   ]
  },
  {
   "cell_type": "code",
   "execution_count": null,
   "id": "05e119e2",
   "metadata": {},
   "outputs": [
    {
     "data": {
      "image/png": "[encoded data removed]",
      "text/plain": [
       "<Figure size 1000x600 with 1 Axes>"
      ]
     },
     "metadata": {},
     "output_type": "display_data"
    }
   ],
   "source": [
    "importances = model_best.feature_importances_\n",
    "feature_names = X.columns\n",
    "\n",
    "# Sort and visualize\n",
    "feat_importance_df = pd.DataFrame({\n",
    "    'feature': feature_names,\n",
    "    'importance': importances\n",
    "}).sort_values(by='importance', ascending=False)\n",
    "\n",
    "# Plot top features\n",
    "plt.figure(figsize=(10, 6))\n",
    "sns.barplot(data=feat_importance_df.head(30), x='importance', y='feature')\n",
    "plt.title('Top Feature Importances')\n",
    "plt.tight_layout()\n",
    "plt.show()"
   ]
  }
 ],
 "metadata": {
  "kernelspec": {
   "display_name": "Python 3",
   "language": "python",
   "name": "python3"
  },
  "language_info": {
   "codemirror_mode": {
    "name": "ipython",
    "version": 3
   },
   "file_extension": ".py",
   "mimetype": "text/x-python",
   "name": "python",
   "nbconvert_exporter": "python",
   "pygments_lexer": "ipython3",
   "version": "3.12.1"
  }
 },
 "nbformat": 4,
 "nbformat_minor": 5
}
